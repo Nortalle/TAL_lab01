{
 "cells": [
  {
   "cell_type": "markdown",
   "metadata": {},
   "source": [
    "# TAL Labo 1b : Text Segmentation with NLTK\n",
    "\n",
    "## Objectives\n",
    "The goal of the second part of the first [TAL](http://iict-space.heig-vd.ch/apu/cours-tal/) lab is to run simple operations for text analysis using the [NLTK](http://www.nltk.org/) toolkit.  You will use the environment that you set up in the first part of the first lab (Labo 1a): [Python 3](https://www.python.org/) with [Jupyter](https://jupyter.org/) notebooks, either using [Google Colab](https://colab.research.google.com) or on your own computer.\n",
    "\n",
    "You will use NLTK functions to get texts from the web or local files, and segment (split) them into sentences and words (also called *tokens*).  You will also experiment with extracting some statistics about the texts.\n",
    "\n",
    "To submit your practical work to the teachers, please execute all cells of your Jupyter notebook, then print it as a PDF document, and [email both files to the teacher](mailto:andrei.popescu-belis@heig-vd.ch)."
   ]
  },
  {
   "cell_type": "markdown",
   "metadata": {},
   "source": [
    "## NLTK: the Natural Language (Processing) Toolkit\n",
    "\n",
    "You should now add NLTK to your local Python installation, by following the instructions at the [NLTK website](http://www.nltk.org/install.html).  On Google Colab, NLTK is already installed.\n",
    "\n",
    "A good way to get started with NLTK is to look at [Chapter 1](http://www.nltk.org/book/ch01.html) of the [NLTK book (NLP with Python)](http://www.nltk.org/book/) and to try some of the instructions there.  Note that the online book is updated for Python 3, but the printed book, also available in PDF on some websites, is only for Python 2 ([_Natural Language Processing with Python: Analyzing Text with the Natural Language Toolkit_, Steven Bird, Ewan Klein, and Edward Loper, O'Reilly Media, 2009](http://shop.oreilly.com/product/9780596516499.do)). \n",
    "\n",
    "To use NLTK in a Jupyter notebook, all you need is to `import nltk` before you need it.  You will still need to use the prefix `nltk.` unless you write for instance: `from nltk.book import *` (this will also import and define several long texts too).  \n",
    "\n",
    "*Note:* NLTK includes a download manager which can be called from a Python interpreter using `import nltk` and then `nltk.download()`.  This can automatically download from the NLTK repository a large number of text collections (_corpora_).  In this practical session, we will not use any of these."
   ]
  },
  {
   "cell_type": "code",
   "execution_count": 1,
   "metadata": {},
   "outputs": [
    {
     "name": "stderr",
     "output_type": "stream",
     "text": [
      "[nltk_data] Downloading package punkt to C:\\Users\\Vincent\n",
      "[nltk_data]     Guidoux\\AppData\\Roaming\\nltk_data...\n",
      "[nltk_data]   Unzipping tokenizers\\punkt.zip.\n"
     ]
    },
    {
     "data": {
      "text/plain": [
       "True"
      ]
     },
     "execution_count": 1,
     "metadata": {},
     "output_type": "execute_result"
    }
   ],
   "source": [
    "import nltk\n",
    "nltk.download('punkt')\n",
    "#from nltk.book import *"
   ]
  },
  {
   "cell_type": "markdown",
   "metadata": {},
   "source": [
    "Please write a list of words called `sentence1`, print its length (`len()`) and use `nltk.bigrams` to generate all bigrams from it, i.e. pairs of consecutive words.  You can see an example in [Sec. 3.3 of Ch. 1 of the NLTK book](http://www.nltk.org/book/ch01.html#collocations-and-bigrams).  Please also sort bigrams alphabetically."
   ]
  },
  {
   "cell_type": "code",
   "execution_count": 3,
   "metadata": {},
   "outputs": [
    {
     "name": "stdout",
     "output_type": "stream",
     "text": [
      "4\n",
      "('bonjour', 'petit')\n",
      "('nathan', 'vincent')\n",
      "('petit', 'nathan')\n"
     ]
    }
   ],
   "source": [
    "# Please write your Python code in this cell and execute it.\n",
    "sentence1 = [\"bonjour\", \"petit\", \"nathan\", \"vincent\"]\n",
    "print(len(sentence1))\n",
    "bibram = sorted(set(nltk.bigrams(sentence1)))\n",
    "for i in bibram:\n",
    "    print(i)\n",
    "\n"
   ]
  },
  {
   "cell_type": "markdown",
   "metadata": {},
   "source": [
    "Please define a string called `string2` with another sentence, not segmented into words yet.  Use the NLTK tokenizer (the function called `nltk.word_tokenize`) as explained in [Sec. 3.1 of the NLTK book](http://www.nltk.org/book/ch03.html#sec-accessing-text) to tokenize the string into a list of words called `sentence2`, and then print this list."
   ]
  },
  {
   "cell_type": "code",
   "execution_count": 4,
   "metadata": {},
   "outputs": [
    {
     "name": "stdout",
     "output_type": "stream",
     "text": [
      "['Bonsoir', 'grand', 'guillaume', 'Hochet']\n"
     ]
    }
   ],
   "source": [
    "# Please write your Python code in this cell and execute it.\n",
    "string2 = \"Bonsoir grand guillaume Hochet\"\n",
    "tokenized = nltk.word_tokenize(string2)\n",
    "list = []\n",
    "for i in tokenized:\n",
    "    list.append(i)\n",
    "print(list)\n",
    "    \n",
    "\n"
   ]
  },
  {
   "cell_type": "markdown",
   "metadata": {},
   "source": [
    "## Using NLTK to download, tokenize, and save a text\n",
    "\n",
    "Using inspiration from [Chapter 3 (3.1. Processing Raw Text) of the NLTK book](http://www.nltk.org/book/ch03.html), get some text from the Web, for instance select a book from the Gutenberg Project.  Do your best to keep only the meaningful text from it, without the header and the final license.  What is the length of the entire book?  Is this a number of characters or words? (If you are curious, you can also refer to [Python's documentation of Unicode support](https://docs.python.org/3.7/howto/unicode.html).)"
   ]
  },
  {
   "cell_type": "code",
   "execution_count": 8,
   "metadata": {},
   "outputs": [
    {
     "name": "stdout",
     "output_type": "stream",
     "text": [
      "Number of characters :  508538\n",
      "Number of words :  110957\n"
     ]
    }
   ],
   "source": [
    "from urllib import request\n",
    "url1 = \"http://www.gutenberg.org/files/18488/18488.txt\" # pick a text here\n",
    "# Please write your Python code below and execute it.\n",
    "\n",
    "response = request.urlopen(url1)\n",
    "raw = response.read().decode('utf8')\n",
    "tokens = nltk.word_tokenize(raw)\n",
    "\n",
    "print(\"Number of characters : \", len(raw))\n",
    "print(\"Number of words : \", len(tokens))\n",
    "\n",
    "# print(raw[4340:489067])\n",
    "\n",
    "\n"
   ]
  },
  {
   "cell_type": "code",
   "execution_count": 10,
   "metadata": {},
   "outputs": [
    {
     "name": "stdout",
     "output_type": "stream",
     "text": [
      "Project Gutenberg's The Place Beyond the Winds, by Harriet T. Comstock\r\n",
      "\r\n",
      "This eBook is for the use of anyone anywhere at no cost and with\r\n",
      "almost no restrictions whatsoever.  You may copy it, give it away or\r\n",
      "re-use it under the terms of the Project Gutenberg License included\r\n",
      "with this eBook or online at www.gutenberg.org\r\n",
      "\r\n",
      "\r\n",
      "Title: The Place Beyond the Winds\r\n",
      "\r\n",
      "Author: Harriet T. Comstock\r\n",
      "\r\n",
      "Illustrator: Harry Spafford Potter\r\n",
      "\r\n",
      "Release Date: June 2, 2006 [EBook #18488]\r\n",
      "\r\n",
      "Language: English\r\n",
      "\r\n",
      "Character set encoding: ASCII\r\n",
      "\r\n",
      "*** START OF THIS PROJECT GUTENBERG EBOOK THE PLACE BEYOND THE WINDS ***\r\n",
      "\r\n",
      "\r\n",
      "\r\n",
      "\r\n",
      "Produced by Suzanne Shell, Mary Meehan and the Online\r\n",
      "Distributed Proofreading Team at http://www.pgdp.net\r\n",
      "\r\n",
      "\r\n",
      "\r\n",
      "\r\n",
      "\r\n",
      "\r\n",
      "\r\n",
      "\r\n",
      "\r\n",
      "[Illustration: \"It was a beautiful thing, that dance, grotesque, pagan\r\n",
      "and yet divine\"]\r\n",
      "\r\n",
      "\r\n",
      "\r\n",
      "\r\n",
      "THE PLACE BEYOND THE WINDS\r\n",
      "\r\n",
      "BY HARRIET T. COMSTOCK\r\n",
      "\r\n",
      "\r\n",
      "_Illustrated by_\r\n",
      "HARRY SPAFFORD POTTER\r\n",
      "\r\n",
      "GARDEN CITY, NEW YORK\r\n",
      "DOUBLEDAY, PAGE & COMPANY\r\n",
      "1914\r\n",
      "\r\n",
      "\r\n",
      "\r\n",
      "\r\n",
      "FOREWORD\r\n",
      "\r\n",
      "\r\n",
      "The In-Place cannot be found; you must happen upon it! Hidden behind its\r\n",
      "rugged red rocks and hemlock-covered hills, it lies waiting for something\r\n",
      "to happen. It has its Trading Station, to and from which the Canadian\r\n",
      "Indians paddle their canoes--sometimes a dugout--bearing rare, luscious\r\n",
      "blue berries invitingly packed in small baskets with their own green\r\n",
      "leaves. And to the Station, also, go the hardy natives--good English,\r\n",
      "Scotch, or \"Mixed\"--with their splendid loads of fish.\r\n",
      "\r\n",
      "\"White fish go: pickerel come\"--but always there is fish through summer\r\n",
      "days and winter's ice.\r\n",
      "\r\n",
      "There is a lovely village Green, around which the modest homes cluster\r\n",
      "sociably. Poor, plain places they may be, but never dirty nor untidy. And\r\n",
      "the children and dogs! Such lovely babies; such human animals. They play\r\n",
      "and work together quite naturally and are the truest friends.\r\n",
      "\r\n",
      "A little church, with a queer pointed spire and a beautiful altar,\r\n",
      "stands with open doors like a kindly welcome to all. Back of this, and\r\n",
      "apologetically placed behind its stockade fence, is the jail.\r\n",
      "\r\n",
      "To have a jail and never need it! What more can be said of a community?\r\n",
      "But you are told--if you insist upon it--that the building is preserved\r\n",
      "as a warning, and if any one should by chance be forced to occupy it, \"he\r\n",
      "will have the best the place affords\"--for justice is seasoned with mercy\r\n",
      "in the In-Place.\r\n",
      "\r\n",
      "If you would know the aristocracy of the hamlet you must leave the\r\n",
      "friendly Green and the pleasant water of the Channel, climb the red\r\n",
      "rocks, tread the grassy road between the hemlocks and the pines, and find\r\n",
      "the farms. For, be it understood, by one's ability to wrench a living\r\n",
      "from the soil instead of the water is he known and estimated. To fish is\r\n",
      "to gamble; to plant and reap is conservative business.\r\n",
      "\r\n",
      "Dreamer's Rock and One Tree Island, Far Hill Place and Lonely Farm,\r\n",
      "safely sheltered they lie, and from them, in obedience to the \"Lure of\r\n",
      "the States,\" comes now and again an adventurous soul to make his way, if\r\n",
      "so he may; and never was there a braver, truer wanderer than Priscilla of\r\n",
      "Lonely Farm. Equipped with a great faith, a straight method of thinking,\r\n",
      "and an ideal that never faded from her sight, she, by the help of the\r\n",
      "Poor Property Man, found her place and her work awaiting her. Love, she\r\n",
      "found, too--love that had to be tested by a man's sense of honour and a\r\n",
      "woman's determination, but it survived and found its fulfilment before\r\n",
      "the Shrine in the woods beyond Lonely Farm, where, as a little child,\r\n",
      "Priscilla had set up her Strange God and given homage to it.\r\n",
      "\r\n",
      "Harriet T. Comstock.\r\n",
      "\r\n",
      "\r\n",
      "\r\n",
      "\r\n",
      "LIST OF ILLUSTRATIONS\r\n",
      "\r\n",
      "\r\n",
      "\"It was a beautiful thing, that dance, grotesque, pagan and yet divine\"\r\n",
      "_Frontispiece_\r\n",
      "\r\n",
      "\"'And now,' she cried, 'I'll keep my word to you. Here! here! here!' The\r\n",
      "bottles went whirling and crashing on the rocks near the roadway\"\r\n",
      "\r\n",
      "\"'You mean, by this device you will make me marry you! You'll blacken\r\n",
      "my name, bar my father's house to me, and then you will be generous\r\n",
      "and--marry me?'\"\r\n",
      "\r\n",
      "\"In one of those marvellous flashes of regained consciousness, the man\r\n",
      "upon the bed opened his eyes and looked, first at Travers, then at\r\n",
      "Priscilla\"\r\n",
      "\r\n",
      "\"'It's past the Dreamer's Rock for us, my sweet, and out to the open\r\n",
      "sea'\"\r\n",
      "\r\n",
      "\r\n",
      "\r\n",
      "\r\n",
      "The Place Beyond the Winds\r\n",
      "-------------------------------------------------------------------------------------------------------------\n",
      "-------------------------------------------------------------------------------------------------------------\n",
      "\r\n",
      "\r\n",
      "\r\n",
      "\r\n",
      "       *       *       *       *       *\r\n",
      "\r\n",
      "BOOKS BY THE SAME AUTHOR\r\n",
      "\r\n",
      "\r\n",
      "Joyce of the North Woods\r\n",
      "Princess Rags and Tatters\r\n",
      "A Son of the Hills\r\n",
      "Janet of the Dunes\r\n",
      "A Little Dusky Hero\r\n",
      "Meg and the Others\r\n",
      "Camp Brave Pine\r\n",
      "\r\n",
      "\r\n",
      "\r\n",
      "\r\n",
      "\r\n",
      "\r\n",
      "End of Project Gutenberg's The Place Beyond the Winds, by Harriet T. Comstock\r\n",
      "\r\n",
      "*** END OF THIS PROJECT GUTENBERG EBOOK THE PLACE BEYOND THE WINDS ***\r\n",
      "\r\n",
      "***** This file should be named 18488.txt or 18488.zip *****\r\n",
      "This and all associated files of various formats will be found in:\r\n",
      "        http://www.gutenberg.org/1/8/4/8/18488/\r\n",
      "\r\n",
      "Produced by Suzanne Shell, Mary Meehan and the Online\r\n",
      "Distributed Proofreading Team at http://www.pgdp.net\r\n",
      "\r\n",
      "\r\n",
      "Updated editions will replace the previous one--the old editions\r\n",
      "will be renamed.\r\n",
      "\r\n",
      "Creating the works from public domain print editions means that no\r\n",
      "one owns a United States copyright in these works, so the Foundation\r\n",
      "(and you!) can copy and distribute it in the United States without\r\n",
      "permission and without paying copyright royalties.  Special rules,\r\n",
      "set forth in the General Terms of Use part of this license, apply to\r\n",
      "copying and distributing Project Gutenberg-tm electronic works to\r\n",
      "protect the PROJECT GUTENBERG-tm concept and trademark.  Project\r\n",
      "Gutenberg is a registered trademark, and may not be used if you\r\n",
      "charge for the eBooks, unless you receive specific permission.  If you\r\n",
      "do not charge anything for copies of this eBook, complying with the\r\n",
      "rules is very easy.  You may use this eBook for nearly any purpose\r\n",
      "such as creation of derivative works, reports, performances and\r\n",
      "research.  They may be modified and printed and given away--you may do\r\n",
      "practically ANYTHING with public domain eBooks.  Redistribution is\r\n",
      "subject to the trademark license, especially commercial\r\n",
      "redistribution.\r\n",
      "\r\n",
      "\r\n",
      "\r\n",
      "*** START: FULL LICENSE ***\r\n",
      "\r\n",
      "THE FULL PROJECT GUTENBERG LICENSE\r\n",
      "PLEASE READ THIS BEFORE YOU DISTRIBUTE OR USE THIS WORK\r\n",
      "\r\n",
      "To protect the Project Gutenberg-tm mission of promoting the free\r\n",
      "distribution of electronic works, by using or distributing this work\r\n",
      "(or any other work associated in any way with the phrase \"Project\r\n",
      "Gutenberg\"), you agree to comply with all the terms of the Full Project\r\n",
      "Gutenberg-tm License (available with this file or online at\r\n",
      "http://gutenberg.org/license).\r\n",
      "\r\n",
      "\r\n",
      "Section 1.  General Terms of Use and Redistributing Project Gutenberg-tm\r\n",
      "electronic works\r\n",
      "\r\n",
      "1.A.  By reading or using any part of this Project Gutenberg-tm\r\n",
      "electronic work, you indicate that you have read, understand, agree to\r\n",
      "and accept all the terms of this license and intellectual property\r\n",
      "(trademark/copyright) agreement.  If you do not agree to abide by all\r\n",
      "the terms of this agreement, you must cease using and return or destroy\r\n",
      "all copies of Project Gutenberg-tm electronic works in your possession.\r\n",
      "If you paid a fee for obtaining a copy of or access to a Project\r\n",
      "Gutenberg-tm electronic work and you do not agree to be bound by the\r\n",
      "terms of this agreement, you may obtain a refund from the person or\r\n",
      "entity to whom you paid the fee as set forth in paragraph 1.E.8.\r\n",
      "\r\n",
      "1.B.  \"Project Gutenberg\" is a registered trademark.  It may only be\r\n",
      "used on or associated in any way with an electronic work by people who\r\n",
      "agree to be bound by the terms of this agreement.  There are a few\r\n",
      "things that you can do with most Project Gutenberg-tm electronic works\r\n",
      "even without complying with the full terms of this agreement.  See\r\n",
      "paragraph 1.C below.  There are a lot of things you can do with Project\r\n",
      "Gutenberg-tm electronic works if you follow the terms of this agreement\r\n",
      "and help preserve free future access to Project Gutenberg-tm electronic\r\n",
      "works.  See paragraph 1.E below.\r\n",
      "\r\n",
      "1.C.  The Project Gutenberg Literary Archive Foundation (\"the Foundation\"\r\n",
      "or PGLAF), owns a compilation copyright in the collection of Project\r\n",
      "Gutenberg-tm electronic works.  Nearly all the individual works in the\r\n",
      "collection are in the public domain in the United States.  If an\r\n",
      "individual work is in the public domain in the United States and you are\r\n",
      "located in the United States, we do not claim a right to prevent you from\r\n",
      "copying, distributing, performing, displaying or creating derivative\r\n",
      "works based on the work as long as all references to Project Gutenberg\r\n",
      "are removed.  Of course, we hope that you will support the Project\r\n",
      "Gutenberg-tm mission of promoting free access to electronic works by\r\n",
      "freely sharing Project Gutenberg-tm works in compliance with the terms of\r\n",
      "this agreement for keeping the Project Gutenberg-tm name associated with\r\n",
      "the work.  You can easily comply with the terms of this agreement by\r\n",
      "keeping this work in the same format with its attached full Project\r\n",
      "Gutenberg-tm License when you share it without charge with others.\r\n",
      "\r\n",
      "1.D.  The copyright laws of the place where you are located also govern\r\n",
      "what you can do with this work.  Copyright laws in most countries are in\r\n",
      "a constant state of change.  If you are outside the United States, check\r\n",
      "the laws of your country in addition to the terms of this agreement\r\n",
      "before downloading, copying, displaying, performing, distributing or\r\n",
      "creating derivative works based on this work or any other Project\r\n",
      "Gutenberg-tm work.  The Foundation makes no representations concerning\r\n",
      "the copyright status of any work in any country outside the United\r\n",
      "States.\r\n",
      "\r\n",
      "1.E.  Unless you have removed all references to Project Gutenberg:\r\n",
      "\r\n",
      "1.E.1.  The following sentence, with active links to, or other immediate\r\n",
      "access to, the full Project Gutenberg-tm License must appear prominently\r\n",
      "whenever any copy of a Project Gutenberg-tm work (any work on which the\r\n",
      "phrase \"Project Gutenberg\" appears, or with which the phrase \"Project\r\n",
      "Gutenberg\" is associated) is accessed, displayed, performed, viewed,\r\n",
      "copied or distributed:\r\n",
      "\r\n",
      "This eBook is for the use of anyone anywhere at no cost and with\r\n",
      "almost no restrictions whatsoever.  You may copy it, give it away or\r\n",
      "re-use it under the terms of the Project Gutenberg License included\r\n",
      "with this eBook or online at www.gutenberg.org\r\n",
      "\r\n",
      "1.E.2.  If an individual Project Gutenberg-tm electronic work is derived\r\n",
      "from the public domain (does not contain a notice indicating that it is\r\n",
      "posted with permission of the copyright holder), the work can be copied\r\n",
      "and distributed to anyone in the United States without paying any fees\r\n",
      "or charges.  If you are redistributing or providing access to a work\r\n",
      "with the phrase \"Project Gutenberg\" associated with or appearing on the\r\n",
      "work, you must comply either with the requirements of paragraphs 1.E.1\r\n",
      "through 1.E.7 or obtain permission for the use of the work and the\r\n",
      "Project Gutenberg-tm trademark as set forth in paragraphs 1.E.8 or\r\n",
      "1.E.9.\r\n",
      "\r\n",
      "1.E.3.  If an individual Project Gutenberg-tm electronic work is posted\r\n",
      "with the permission of the copyright holder, your use and distribution\r\n",
      "must comply with both paragraphs 1.E.1 through 1.E.7 and any additional\r\n",
      "terms imposed by the copyright holder.  Additional terms will be linked\r\n",
      "to the Project Gutenberg-tm License for all works posted with the\r\n",
      "permission of the copyright holder found at the beginning of this work.\r\n",
      "\r\n",
      "1.E.4.  Do not unlink or detach or remove the full Project Gutenberg-tm\r\n",
      "License terms from this work, or any files containing a part of this\r\n",
      "work or any other work associated with Project Gutenberg-tm.\r\n",
      "\r\n",
      "1.E.5.  Do not copy, display, perform, distribute or redistribute this\r\n",
      "electronic work, or any part of this electronic work, without\r\n",
      "prominently displaying the sentence set forth in paragraph 1.E.1 with\r\n",
      "active links or immediate access to the full terms of the Project\r\n",
      "Gutenberg-tm License.\r\n",
      "\r\n",
      "1.E.6.  You may convert to and distribute this work in any binary,\r\n",
      "compressed, marked up, nonproprietary or proprietary form, including any\r\n",
      "word processing or hypertext form.  However, if you provide access to or\r\n",
      "distribute copies of a Project Gutenberg-tm work in a format other than\r\n",
      "\"Plain Vanilla ASCII\" or other format used in the official version\r\n",
      "posted on the official Project Gutenberg-tm web site (www.gutenberg.org),\r\n",
      "you must, at no additional cost, fee or expense to the user, provide a\r\n",
      "copy, a means of exporting a copy, or a means of obtaining a copy upon\r\n",
      "request, of the work in its original \"Plain Vanilla ASCII\" or other\r\n",
      "form.  Any alternate format must include the full Project Gutenberg-tm\r\n",
      "License as specified in paragraph 1.E.1.\r\n",
      "\r\n",
      "1.E.7.  Do not charge a fee for access to, viewing, displaying,\r\n",
      "performing, copying or distributing any Project Gutenberg-tm works\r\n",
      "unless you comply with paragraph 1.E.8 or 1.E.9.\r\n",
      "\r\n",
      "1.E.8.  You may charge a reasonable fee for copies of or providing\r\n",
      "access to or distributing Project Gutenberg-tm electronic works provided\r\n",
      "that\r\n",
      "\r\n",
      "- You pay a royalty fee of 20% of the gross profits you derive from\r\n",
      "     the use of Project Gutenberg-tm works calculated using the method\r\n",
      "     you already use to calculate your applicable taxes.  The fee is\r\n",
      "     owed to the owner of the Project Gutenberg-tm trademark, but he\r\n",
      "     has agreed to donate royalties under this paragraph to the\r\n",
      "     Project Gutenberg Literary Archive Foundation.  Royalty payments\r\n",
      "     must be paid within 60 days following each date on which you\r\n",
      "     prepare (or are legally required to prepare) your periodic tax\r\n",
      "     returns.  Royalty payments should be clearly marked as such and\r\n",
      "     sent to the Project Gutenberg Literary Archive Foundation at the\r\n",
      "     address specified in Section 4, \"Information about donations to\r\n",
      "     the Project Gutenberg Literary Archive Foundation.\"\r\n",
      "\r\n",
      "- You provide a full refund of any money paid by a user who notifies\r\n",
      "     you in writing (or by e-mail) within 30 days of receipt that s/he\r\n",
      "     does not agree to the terms of the full Project Gutenberg-tm\r\n",
      "     License.  You must require such a user to return or\r\n",
      "     destroy all copies of the works possessed in a physical medium\r\n",
      "     and discontinue all use of and all access to other copies of\r\n",
      "     Project Gutenberg-tm works.\r\n",
      "\r\n",
      "- You provide, in accordance with paragraph 1.F.3, a full refund of any\r\n",
      "     money paid for a work or a replacement copy, if a defect in the\r\n",
      "     electronic work is discovered and reported to you within 90 days\r\n",
      "     of receipt of the work.\r\n",
      "\r\n",
      "- You comply with all other terms of this agreement for free\r\n",
      "     distribution of Project Gutenberg-tm works.\r\n",
      "\r\n",
      "1.E.9.  If you wish to charge a fee or distribute a Project Gutenberg-tm\r\n",
      "electronic work or group of works on different terms than are set\r\n",
      "forth in this agreement, you must obtain permission in writing from\r\n",
      "both the Project Gutenberg Literary Archive Foundation and Michael\r\n",
      "Hart, the owner of the Project Gutenberg-tm trademark.  Contact the\r\n",
      "Foundation as set forth in Section 3 below.\r\n",
      "\r\n",
      "1.F.\r\n",
      "\r\n",
      "1.F.1.  Project Gutenberg volunteers and employees expend considerable\r\n",
      "effort to identify, do copyright research on, transcribe and proofread\r\n",
      "public domain works in creating the Project Gutenberg-tm\r\n",
      "collection.  Despite these efforts, Project Gutenberg-tm electronic\r\n",
      "works, and the medium on which they may be stored, may contain\r\n",
      "\"Defects,\" such as, but not limited to, incomplete, inaccurate or\r\n",
      "corrupt data, transcription errors, a copyright or other intellectual\r\n",
      "property infringement, a defective or damaged disk or other medium, a\r\n",
      "computer virus, or computer codes that damage or cannot be read by\r\n",
      "your equipment.\r\n",
      "\r\n",
      "1.F.2.  LIMITED WARRANTY, DISCLAIMER OF DAMAGES - Except for the \"Right\r\n",
      "of Replacement or Refund\" described in paragraph 1.F.3, the Project\r\n",
      "Gutenberg Literary Archive Foundation, the owner of the Project\r\n",
      "Gutenberg-tm trademark, and any other party distributing a Project\r\n",
      "Gutenberg-tm electronic work under this agreement, disclaim all\r\n",
      "liability to you for damages, costs and expenses, including legal\r\n",
      "fees.  YOU AGREE THAT YOU HAVE NO REMEDIES FOR NEGLIGENCE, STRICT\r\n",
      "LIABILITY, BREACH OF WARRANTY OR BREACH OF CONTRACT EXCEPT THOSE\r\n",
      "PROVIDED IN PARAGRAPH F3.  YOU AGREE THAT THE FOUNDATION, THE\r\n",
      "TRADEMARK OWNER, AND ANY DISTRIBUTOR UNDER THIS AGREEMENT WILL NOT BE\r\n",
      "LIABLE TO YOU FOR ACTUAL, DIRECT, INDIRECT, CONSEQUENTIAL, PUNITIVE OR\r\n",
      "INCIDENTAL DAMAGES EVEN IF YOU GIVE NOTICE OF THE POSSIBILITY OF SUCH\r\n",
      "DAMAGE.\r\n",
      "\r\n",
      "1.F.3.  LIMITED RIGHT OF REPLACEMENT OR REFUND - If you discover a\r\n",
      "defect in this electronic work within 90 days of receiving it, you can\r\n",
      "receive a refund of the money (if any) you paid for it by sending a\r\n",
      "written explanation to the person you received the work from.  If you\r\n",
      "received the work on a physical medium, you must return the medium with\r\n",
      "your written explanation.  The person or entity that provided you with\r\n",
      "the defective work may elect to provide a replacement copy in lieu of a\r\n",
      "refund.  If you received the work electronically, the person or entity\r\n",
      "providing it to you may choose to give you a second opportunity to\r\n",
      "receive the work electronically in lieu of a refund.  If the second copy\r\n",
      "is also defective, you may demand a refund in writing without further\r\n",
      "opportunities to fix the problem.\r\n",
      "\r\n",
      "1.F.4.  Except for the limited right of replacement or refund set forth\r\n",
      "in paragraph 1.F.3, this work is provided to you 'AS-IS' WITH NO OTHER\r\n",
      "WARRANTIES OF ANY KIND, EXPRESS OR IMPLIED, INCLUDING BUT NOT LIMITED TO\r\n",
      "WARRANTIES OF MERCHANTIBILITY OR FITNESS FOR ANY PURPOSE.\r\n",
      "\r\n",
      "1.F.5.  Some states do not allow disclaimers of certain implied\r\n",
      "warranties or the exclusion or limitation of certain types of damages.\r\n",
      "If any disclaimer or limitation set forth in this agreement violates the\r\n",
      "law of the state applicable to this agreement, the agreement shall be\r\n",
      "interpreted to make the maximum disclaimer or limitation permitted by\r\n",
      "the applicable state law.  The invalidity or unenforceability of any\r\n",
      "provision of this agreement shall not void the remaining provisions.\r\n",
      "\r\n",
      "1.F.6.  INDEMNITY - You agree to indemnify and hold the Foundation, the\r\n",
      "trademark owner, any agent or employee of the Foundation, anyone\r\n",
      "providing copies of Project Gutenberg-tm electronic works in accordance\r\n",
      "with this agreement, and any volunteers associated with the production,\r\n",
      "promotion and distribution of Project Gutenberg-tm electronic works,\r\n",
      "harmless from all liability, costs and expenses, including legal fees,\r\n",
      "that arise directly or indirectly from any of the following which you do\r\n",
      "or cause to occur: (a) distribution of this or any Project Gutenberg-tm\r\n",
      "work, (b) alteration, modification, or additions or deletions to any\r\n",
      "Project Gutenberg-tm work, and (c) any Defect you cause.\r\n",
      "\r\n",
      "\r\n",
      "Section  2.  Information about the Mission of Project Gutenberg-tm\r\n",
      "\r\n",
      "Project Gutenberg-tm is synonymous with the free distribution of\r\n",
      "electronic works in formats readable by the widest variety of computers\r\n",
      "including obsolete, old, middle-aged and new computers.  It exists\r\n",
      "because of the efforts of hundreds of volunteers and donations from\r\n",
      "people in all walks of life.\r\n",
      "\r\n",
      "Volunteers and financial support to provide volunteers with the\r\n",
      "assistance they need, is critical to reaching Project Gutenberg-tm's\r\n",
      "goals and ensuring that the Project Gutenberg-tm collection will\r\n",
      "remain freely available for generations to come.  In 2001, the Project\r\n",
      "Gutenberg Literary Archive Foundation was created to provide a secure\r\n",
      "and permanent future for Project Gutenberg-tm and future generations.\r\n",
      "To learn more about the Project Gutenberg Literary Archive Foundation\r\n",
      "and how your efforts and donations can help, see Sections 3 and 4\r\n",
      "and the Foundation web page at http://www.pglaf.org.\r\n",
      "\r\n",
      "\r\n",
      "Section 3.  Information about the Project Gutenberg Literary Archive\r\n",
      "Foundation\r\n",
      "\r\n",
      "The Project Gutenberg Literary Archive Foundation is a non profit\r\n",
      "501(c)(3) educational corporation organized under the laws of the\r\n",
      "state of Mississippi and granted tax exempt status by the Internal\r\n",
      "Revenue Service.  The Foundation's EIN or federal tax identification\r\n",
      "number is 64-6221541.  Its 501(c)(3) letter is posted at\r\n",
      "http://pglaf.org/fundraising.  Contributions to the Project Gutenberg\r\n",
      "Literary Archive Foundation are tax deductible to the full extent\r\n",
      "permitted by U.S. federal laws and your state's laws.\r\n",
      "\r\n",
      "The Foundation's principal office is located at 4557 Melan Dr. S.\r\n",
      "Fairbanks, AK, 99712., but its volunteers and employees are scattered\r\n",
      "throughout numerous locations.  Its business office is located at\r\n",
      "809 North 1500 West, Salt Lake City, UT 84116, (801) 596-1887, email\r\n",
      "business@pglaf.org.  Email contact links and up to date contact\r\n",
      "information can be found at the Foundation's web site and official\r\n",
      "page at http://pglaf.org\r\n",
      "\r\n",
      "For additional contact information:\r\n",
      "     Dr. Gregory B. Newby\r\n",
      "     Chief Executive and Director\r\n",
      "     gbnewby@pglaf.org\r\n",
      "\r\n",
      "\r\n",
      "Section 4.  Information about Donations to the Project Gutenberg\r\n",
      "Literary Archive Foundation\r\n",
      "\r\n",
      "Project Gutenberg-tm depends upon and cannot survive without wide\r\n",
      "spread public support and donations to carry out its mission of\r\n",
      "increasing the number of public domain and licensed works that can be\r\n",
      "freely distributed in machine readable form accessible by the widest\r\n",
      "array of equipment including outdated equipment.  Many small donations\r\n",
      "($1 to $5,000) are particularly important to maintaining tax exempt\r\n",
      "status with the IRS.\r\n",
      "\r\n",
      "The Foundation is committed to complying with the laws regulating\r\n",
      "charities and charitable donations in all 50 states of the United\r\n",
      "States.  Compliance requirements are not uniform and it takes a\r\n",
      "considerable effort, much paperwork and many fees to meet and keep up\r\n",
      "with these requirements.  We do not solicit donations in locations\r\n",
      "where we have not received written confirmation of compliance.  To\r\n",
      "SEND DONATIONS or determine the status of compliance for any\r\n",
      "particular state visit http://pglaf.org\r\n",
      "\r\n",
      "While we cannot and do not solicit contributions from states where we\r\n",
      "have not met the solicitation requirements, we know of no prohibition\r\n",
      "against accepting unsolicited donations from donors in such states who\r\n",
      "approach us with offers to donate.\r\n",
      "\r\n",
      "International donations are gratefully accepted, but we cannot make\r\n",
      "any statements concerning tax treatment of donations received from\r\n",
      "outside the United States.  U.S. laws alone swamp our small staff.\r\n",
      "\r\n",
      "Please check the Project Gutenberg Web pages for current donation\r\n",
      "methods and addresses.  Donations are accepted in a number of other\r\n",
      "ways including checks, online payments and credit card donations.\r\n",
      "To donate, please visit: http://pglaf.org/donate\r\n",
      "\r\n",
      "\r\n",
      "Section 5.  General Information About Project Gutenberg-tm electronic\r\n",
      "works.\r\n",
      "\r\n",
      "Professor Michael S. Hart is the originator of the Project Gutenberg-tm\r\n",
      "concept of a library of electronic works that could be freely shared\r\n",
      "with anyone.  For thirty years, he produced and distributed Project\r\n",
      "Gutenberg-tm eBooks with only a loose network of volunteer support.\r\n",
      "\r\n",
      "\r\n",
      "Project Gutenberg-tm eBooks are often created from several printed\r\n",
      "editions, all of which are confirmed as Public Domain in the U.S.\r\n",
      "unless a copyright notice is included.  Thus, we do not necessarily\r\n",
      "keep eBooks in compliance with any particular paper edition.\r\n",
      "\r\n",
      "\r\n",
      "Most people start at our Web site which has the main PG search facility:\r\n",
      "\r\n",
      "     http://www.gutenberg.org\r\n",
      "\r\n",
      "This Web site includes information about Project Gutenberg-tm,\r\n",
      "including how to make donations to the Project Gutenberg Literary\r\n",
      "Archive Foundation, how to help produce our new eBooks, and how to\r\n",
      "subscribe to our email newsletter to hear about new eBooks.\r\n",
      "\n"
     ]
    }
   ],
   "source": [
    "# Determine, by trial and error, how much we should trim from the \n",
    "# beginning and from the end, to keep only the actual text of the book,\n",
    "# then display its beginning and end.\n",
    "# raw1[:123]    # adjust the start\n",
    "# raw1[456789:] # adjust the end\n",
    "\n",
    "print(raw[:4340])\n",
    "print(\"-------------------------------------------------------------------------------------------------------------\")\n",
    "print(\"-------------------------------------------------------------------------------------------------------------\")\n",
    "print(raw[489067:])\n",
    "\n",
    "\n",
    "\n"
   ]
  },
  {
   "cell_type": "markdown",
   "metadata": {},
   "source": [
    "**Segment (tokenize) the text into words.**  How many words does it have ?  Display a short fragment of it."
   ]
  },
  {
   "cell_type": "code",
   "execution_count": 11,
   "metadata": {
    "scrolled": true
   },
   "outputs": [
    {
     "name": "stdout",
     "output_type": "stream",
     "text": [
      "Number of words :  110957\n"
     ]
    }
   ],
   "source": [
    "# Please write your Python code in this cell and execute it.\n",
    "\n",
    "tokens = nltk.word_tokenize(raw)\n",
    "\n",
    "print(\"Number of words : \", len(tokens))\n",
    "\n"
   ]
  },
  {
   "cell_type": "code",
   "execution_count": 12,
   "metadata": {},
   "outputs": [],
   "source": [
    "import os, codecs # we need to manage the encodings too"
   ]
  },
  {
   "cell_type": "markdown",
   "metadata": {},
   "source": [
    "Now save a text version, by writing each token followed by a white space.  Inspect the text file using a text editor."
   ]
  },
  {
   "cell_type": "code",
   "execution_count": 8,
   "metadata": {},
   "outputs": [],
   "source": [
    "filename1 = \"tokens1.txt\"\n",
    "# For a local file: relative path with respect to notebook\n",
    "# For Google Colab: /content/gdrive/My Drive/tokens1.txt\n",
    "if os.path.exists(filename1): \n",
    "    os.remove(filename1)\n",
    "fd = codecs.open(filename1, 'a', 'utf8')\n",
    "# Please write your Python code below and execute it.\n",
    "\n",
    "\n"
   ]
  },
  {
   "cell_type": "markdown",
   "metadata": {},
   "source": [
    "**Now segment the raw text into sentences.**  There are two solutions: the first one is to start from the trimmed raw text and apply `nltk.sent_tokenize()`."
   ]
  },
  {
   "cell_type": "code",
   "execution_count": 9,
   "metadata": {},
   "outputs": [],
   "source": [
    "# Please write your Python code in this cell and execute it.\n",
    "\n"
   ]
  },
  {
   "cell_type": "markdown",
   "metadata": {},
   "source": [
    "The second solution for segmentation (which seems better in this case) is to use the tokenized version that you saved.  \n",
    "\n",
    "Load from the file the tokenized text (tokens + whtespace), and apply `nltk.sent_tokenize` to it.  \n",
    "\n",
    "How many sentences does it have?  Display a short fragment of it."
   ]
  },
  {
   "cell_type": "code",
   "execution_count": 10,
   "metadata": {},
   "outputs": [],
   "source": [
    "# Second solution for a better text segmentation\n",
    "fd = codecs.open(filename1, 'r', 'utf8')\n",
    "# Please write your Python code below and execute it.\n",
    "\n",
    "\n"
   ]
  },
  {
   "cell_type": "markdown",
   "metadata": {},
   "source": [
    "Save the segmented text as another file (one sentence per line).  Inspect the file using a text editor."
   ]
  },
  {
   "cell_type": "code",
   "execution_count": 11,
   "metadata": {},
   "outputs": [],
   "source": [
    "# Write every sentence on a separate line\n",
    "filename2 = \"sentences1.txt\"\n",
    "# For a local file: relative path with respect to notebook\n",
    "# For Google Colab: /content/gdrive/My Drive/sentences1.txt\n",
    "if os.path.exists(filename2): \n",
    "    os.remove(filename2)\n",
    "fd = codecs.open(filename2, 'a', 'utf8')\n",
    "# Please write your Python code below and execute it.\n",
    "\n",
    "\n"
   ]
  },
  {
   "cell_type": "markdown",
   "metadata": {},
   "source": [
    "## Computing statistics over a text\n",
    "You can also create a NLTK Text object from the tokens of the text, without sentence segmentation.  This enables you  to compute some statistics using NLTK functions.  NLTK Texts can store: (1) a string; (2) the list of all words (strings); (3) the list of all sentences (list of lists of strings).  In each case, the length of the object is different.  **However, only option (2) allows the use of predefined methods for NLTK Texts.**  Note that `nltk.word_tokenize()` and `nltk.sent_tokenize()` only apply to strings, not to NLTK Texts."
   ]
  },
  {
   "cell_type": "code",
   "execution_count": 12,
   "metadata": {},
   "outputs": [],
   "source": [
    "# Create a NLTK text object by word tokenization of the raw string (trimmed), for instance:\n",
    "# text1tokenized = nltk.Text(nltk.word_tokenize(raw1trimmed)) # correct\n",
    "\n"
   ]
  },
  {
   "cell_type": "markdown",
   "metadata": {},
   "source": [
    "**From now on, we will use the Text object created by word_tokenizing the initial raw string.**\n",
    "\n",
    "[Chapter 1 of the NLTK book](http://www.nltk.org/book/ch01.html) provides examples of operations than can be done on texts.  For instance, you can search for a word in its context with `concordance`, or find words that are similar to a given one in terms of contexts with `similar`."
   ]
  },
  {
   "cell_type": "code",
   "execution_count": 14,
   "metadata": {},
   "outputs": [],
   "source": [
    "# Please write your Python code for finding concordances in this cell and execute it.\n",
    "\n"
   ]
  },
  {
   "cell_type": "code",
   "execution_count": 15,
   "metadata": {},
   "outputs": [],
   "source": [
    "# Please write your Python code in this cell for finding similar words and execute it.\n",
    "\n"
   ]
  },
  {
   "cell_type": "markdown",
   "metadata": {},
   "source": [
    "Determine the vocabulary (list of word types) of your text by converting the list to a set.  What is the size of the vocabulary?  What are the words longer than 15 characters?"
   ]
  },
  {
   "cell_type": "code",
   "execution_count": 16,
   "metadata": {},
   "outputs": [],
   "source": [
    "# Please write your Python code in this cell and execute it.\n",
    "\n",
    "\n"
   ]
  },
  {
   "cell_type": "markdown",
   "metadata": {},
   "source": [
    "## Frequency Distributions\n",
    "You can also ask NLTK to compute word frequencies for a given text, yielding a new object called a frequency distribution: see [Sec. 3.1 of Ch. 1 of the NLTK book](http://www.nltk.org/book/ch01.html#frequency-distributions).  Using this object, you can ask for the most common (i.e. frequent) words."
   ]
  },
  {
   "cell_type": "code",
   "execution_count": 18,
   "metadata": {},
   "outputs": [],
   "source": [
    "# Please write your Python code in this cell and execute it.\n",
    "\n",
    "\n"
   ]
  },
  {
   "cell_type": "markdown",
   "metadata": {},
   "source": [
    "Can you display words strictly longer than 4 characters among the 70 most frequent words?"
   ]
  },
  {
   "cell_type": "code",
   "execution_count": 17,
   "metadata": {},
   "outputs": [],
   "source": [
    "# Please write your Python code in this cell and execute it.\n",
    "\n"
   ]
  },
  {
   "cell_type": "markdown",
   "metadata": {},
   "source": [
    "Can you display the list of most frequent collocations (bi-grams) using the corresponding NLTK function?"
   ]
  },
  {
   "cell_type": "code",
   "execution_count": 21,
   "metadata": {},
   "outputs": [],
   "source": [
    "# Please write your Python code in this cell and execute it.\n",
    "\n"
   ]
  },
  {
   "cell_type": "markdown",
   "metadata": {},
   "source": [
    "## Graphical displays\n",
    "We can also display various plots regarding word statistics, using _matplotlib_. Once it is installed, you need to run e.g. `import matplotlib.pyplot as plt` and then `%matplotlib inline`.  You can use two lists (e.g. x_values and y_values) to generate a plot with `plt.plot(x_values, y_values)`.  Or you can use the plotting functions from NLTK."
   ]
  },
  {
   "cell_type": "code",
   "execution_count": 13,
   "metadata": {},
   "outputs": [],
   "source": [
    "# Before using matplotlib to display graphs inline, you must execute the following two lines.\n",
    "import matplotlib.pyplot\n",
    "%matplotlib inline"
   ]
  },
  {
   "cell_type": "markdown",
   "metadata": {},
   "source": [
    "Again using [Sec. 3.1 of Ch. 1 of the NLTK book](http://www.nltk.org/book/ch01.html#frequency-distributions), display the cumulative frequency plot of the 70 most frequent words of your text."
   ]
  },
  {
   "cell_type": "code",
   "execution_count": 22,
   "metadata": {},
   "outputs": [],
   "source": [
    "# Please write your Python code in this cell and execute it.\n",
    "\n",
    "\n"
   ]
  },
  {
   "cell_type": "markdown",
   "metadata": {},
   "source": [
    "Can you build a list with the length of each word, then use this list to create a new `FreqDist` object, and plot the frequency distribution?  (Not the cumulative one.)  What is the most frequent length?  What can you observe about the order of the lengths by decreasing frequency?"
   ]
  },
  {
   "cell_type": "code",
   "execution_count": 23,
   "metadata": {},
   "outputs": [],
   "source": [
    "# Please write your Python code in this cell and execute it.\n",
    "\n",
    "\n"
   ]
  },
  {
   "cell_type": "markdown",
   "metadata": {},
   "source": [
    "**Zipf's Law.** Please produce a list of the frequencies of each word, in decreasing order.  Plot (for about 100 ranks) the values on the y axis and the rank (1st, 2nd, 3rd, ...) on the x axis. Add also a curve of the shape y = a(x+b) trying to fit a and b as close as you can so that the two curves look superposed."
   ]
  },
  {
   "cell_type": "code",
   "execution_count": 24,
   "metadata": {},
   "outputs": [],
   "source": [
    "# Please write your Python code in this cell and execute it.\n",
    "\n",
    "\n",
    "\n",
    "\n"
   ]
  },
  {
   "cell_type": "markdown",
   "metadata": {},
   "source": [
    "## End of Lab 1b\n",
    "Please print this notebook as a PDF file (once you have executed all cells), group it into a ZIP file with the `.ipynb` file, and files from Labo 1c, and email them to the teacher."
   ]
  }
 ],
 "metadata": {
  "kernelspec": {
   "display_name": "Python 3",
   "language": "python",
   "name": "python3"
  },
  "language_info": {
   "codemirror_mode": {
    "name": "ipython",
    "version": 3
   },
   "file_extension": ".py",
   "mimetype": "text/x-python",
   "name": "python",
   "nbconvert_exporter": "python",
   "pygments_lexer": "ipython3",
   "version": "3.7.1"
  }
 },
 "nbformat": 4,
 "nbformat_minor": 2
}
