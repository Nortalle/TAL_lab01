{
 "cells": [
  {
   "cell_type": "markdown",
   "metadata": {},
   "source": [
    "# TAL Labo 1c : A New Document"
   ]
  },
  {
   "cell_type": "markdown",
   "metadata": {},
   "source": [
    "## Start over with a new example: Web page \n",
    "**Redo the same operations** as in the previous notebook (labo 1b) using this time a Wikipedia page.  The content and even language are your choice, e.g. Wikipedia page on Switzerland."
   ]
  },
  {
   "cell_type": "code",
   "execution_count": 13,
   "metadata": {},
   "outputs": [],
   "source": [
    "import nltk\n",
    "import os, codecs\n",
    "from urllib import request\n",
    "import matplotlib.pyplot\n",
    "%matplotlib inline"
   ]
  },
  {
   "cell_type": "code",
   "execution_count": 14,
   "metadata": {},
   "outputs": [],
   "source": [
    "# refer to the NLTK book Ch. 3, for dealing with HTML\n",
    "# Please write your Python code in this cell and execute it.\n",
    "# Here is an example\n",
    "#url2 = \"https://www.example.com\" \n",
    "#response2 = request.urlopen(url2)\n",
    "#html2 = response2.read().decode('utf8')\n",
    "#print(len(html2))"
   ]
  },
  {
   "cell_type": "code",
   "execution_count": 15,
   "metadata": {},
   "outputs": [],
   "source": [
    "from bs4 import BeautifulSoup"
   ]
  },
  {
   "cell_type": "code",
   "execution_count": 16,
   "metadata": {},
   "outputs": [],
   "source": [
    "#raw2 = BeautifulSoup(html2).get_text()"
   ]
  },
  {
   "cell_type": "code",
   "execution_count": 17,
   "metadata": {},
   "outputs": [],
   "source": [
    "# Please write your Python code in this cell to trim the head and tail, and execute it.\n",
    "\n",
    "\n"
   ]
  },
  {
   "cell_type": "code",
   "execution_count": 18,
   "metadata": {},
   "outputs": [],
   "source": [
    "# Please write your Python code in this cell to tokenize the text and save it to a file, then execute it.\n",
    "\n",
    "\n",
    "\n"
   ]
  },
  {
   "cell_type": "code",
   "execution_count": 19,
   "metadata": {},
   "outputs": [],
   "source": [
    "# Please write your Python code to display a list of concordances, \n",
    "# words similar to a given word, and most frequent collocations.\n",
    "\n",
    "\n",
    "\n"
   ]
  },
  {
   "cell_type": "code",
   "execution_count": 20,
   "metadata": {},
   "outputs": [],
   "source": [
    "# Please write your Python code to determine the size of the vocabulary, and words longer than 15 characters.\n",
    "\n"
   ]
  },
  {
   "cell_type": "code",
   "execution_count": 21,
   "metadata": {},
   "outputs": [],
   "source": [
    "# Please write your Python code to create a FreqDist object.\n",
    "# Please consider lowering case for all words (w.lower()) and do not consider numbers (w.isalpha()).\n",
    "\n",
    "\n"
   ]
  },
  {
   "cell_type": "code",
   "execution_count": 22,
   "metadata": {},
   "outputs": [],
   "source": [
    "# Please write your Python code to display the cumulative frequency distribution.\n",
    "\n"
   ]
  },
  {
   "cell_type": "code",
   "execution_count": 23,
   "metadata": {},
   "outputs": [],
   "source": [
    "# Please write your Python code to build a list with the length of each word, \n",
    "# then use this list to create a new `FreqDist` object, and plot the frequency \n",
    "# distribution (not the cumulative one).\n",
    "\n",
    "\n"
   ]
  },
  {
   "cell_type": "code",
   "execution_count": 24,
   "metadata": {},
   "outputs": [],
   "source": [
    "# Zipf's Law\n",
    "# **Zipf's Law.** Please produce a list of the frequencies of each word,\n",
    "# in decreasing order.  Plot (for about 100 ranks) the values on the y axis \n",
    "# and the rank (1st, 2nd, 3rd, ...) on the x axis. Add also a curve of the \n",
    "# shape y = a(x+b) trying to fit a and b as close as you can so that the two \n",
    "# curves look superposed.\n",
    "\n",
    "\n",
    "\n"
   ]
  },
  {
   "cell_type": "markdown",
   "metadata": {},
   "source": [
    "## End of Labo 1c\n",
    "Please print this notebook as a PDF file (once you have executed all cells), add the `.pdf` the `.ipynb` files to a ZIP archive with those from Labo 1b, and [email it to the teacher](mailto:andrei.popescu-belis@heig-vd.ch)."
   ]
  }
 ],
 "metadata": {
  "kernelspec": {
   "display_name": "Python 3",
   "language": "python",
   "name": "python3"
  },
  "language_info": {
   "codemirror_mode": {
    "name": "ipython",
    "version": 3
   },
   "file_extension": ".py",
   "mimetype": "text/x-python",
   "name": "python",
   "nbconvert_exporter": "python",
   "pygments_lexer": "ipython3",
   "version": "3.6.4"
  }
 },
 "nbformat": 4,
 "nbformat_minor": 2
}
